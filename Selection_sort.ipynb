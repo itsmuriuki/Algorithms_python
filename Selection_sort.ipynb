{
 "cells": [
  {
   "cell_type": "code",
   "execution_count": 1,
   "metadata": {},
   "outputs": [],
   "source": [
    "def selection_sort(nums):\n",
    "    for i in range(len(nums)):\n",
    "        #assume the first item is the smallest on the unsorted list\n",
    "        lowest_value_idex = i\n",
    "        #loop iterates over the unsorted items\n",
    "        for j in range(i + 1, len(nums)):\n",
    "            if nums[j] < nums[lowest_value_idex]:\n",
    "                lowest_value_idex = j\n",
    "        #swapping values \n",
    "        nums[i], nums[lowest_value_idex] = nums[lowest_value_idex], nums[i]\n",
    "        "
   ]
  },
  {
   "cell_type": "code",
   "execution_count": 3,
   "metadata": {},
   "outputs": [
    {
     "name": "stdout",
     "output_type": "stream",
     "text": [
      "[3, 8, 11, 12, 20]\n"
     ]
    }
   ],
   "source": [
    "nums_list = [12, 8, 3, 20, 11]\n",
    "selection_sort(nums_list)\n",
    "print(nums_list)"
   ]
  }
 ],
 "metadata": {
  "kernelspec": {
   "display_name": "Python 3",
   "language": "python",
   "name": "python3"
  },
  "language_info": {
   "codemirror_mode": {
    "name": "ipython",
    "version": 3
   },
   "file_extension": ".py",
   "mimetype": "text/x-python",
   "name": "python",
   "nbconvert_exporter": "python",
   "pygments_lexer": "ipython3",
   "version": "3.7.6"
  }
 },
 "nbformat": 4,
 "nbformat_minor": 4
}
