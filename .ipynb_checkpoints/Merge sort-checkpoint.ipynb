{
 "cells": [
  {
   "cell_type": "code",
   "execution_count": 37,
   "metadata": {},
   "outputs": [],
   "source": [
    "myList =[1,2,3,4,5,6]\n",
    "\n",
    "def merge_sort(myList):\n",
    "    if len(myList) > 1:\n",
    "        mid = len(myList) // 2\n",
    "        left = myList[:mid]\n",
    "        right = myList[mid:]\n",
    "        \n",
    "        #recursively call on each half \n",
    "        merge_sort(right)\n",
    "        merge_sort(left)\n",
    "        print(left)\n",
    "        print(right)\n",
    "        \n",
    "        #two iterators for going through the 2 halves \n",
    "        i = 0 \n",
    "        j = 0\n",
    "        \n",
    "        #iterator for the main list\n",
    "        k = 0\n",
    "        \n",
    "        while i < len(left) and j < len(right):\n",
    "            if left[i] < right[j]:\n",
    "                #the value of the left has been used\n",
    "                myList[k] = left[i]\n",
    "                #move the iterator forward \n",
    "                i += 1\n",
    "                print(myList[k])\n",
    "            #for the remaining values \n",
    "            else:\n",
    "                myList[k] = right[j]\n",
    "                j += 1\n",
    "            #move the next slot\n",
    "            k += 1\n",
    "        \n",
    "#         #for all the reamining values    \n",
    "#         while i < len \n",
    "            \n",
    "            \n",
    "            \n",
    "            \n",
    "        "
   ]
  },
  {
   "cell_type": "code",
   "execution_count": 38,
   "metadata": {},
   "outputs": [],
   "source": [
    "list =[1,2,3,4,5,6]"
   ]
  },
  {
   "cell_type": "code",
   "execution_count": null,
   "metadata": {},
   "outputs": [],
   "source": []
  },
  {
   "cell_type": "code",
   "execution_count": null,
   "metadata": {},
   "outputs": [],
   "source": []
  }
 ],
 "metadata": {
  "kernelspec": {
   "display_name": "Python 3",
   "language": "python",
   "name": "python3"
  },
  "language_info": {
   "codemirror_mode": {
    "name": "ipython",
    "version": 3
   },
   "file_extension": ".py",
   "mimetype": "text/x-python",
   "name": "python",
   "nbconvert_exporter": "python",
   "pygments_lexer": "ipython3",
   "version": "3.7.6"
  }
 },
 "nbformat": 4,
 "nbformat_minor": 4
}
