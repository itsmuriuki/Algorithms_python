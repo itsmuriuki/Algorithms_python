{
 "cells": [
  {
   "cell_type": "code",
   "execution_count": 19,
   "metadata": {},
   "outputs": [],
   "source": [
    "def hanoi(height, fromPole = 'A', toPole ='B', withPole ='C'):\n",
    "    if height:\n",
    "        hanoi(height-1, fromPole, withPole, toPole)\n",
    "        print(\"Move disk from \", fromPole, 'to' , toPole)\n",
    "        hanoi(height-1, withPole, toPole, fromPole)"
   ]
  },
  {
   "cell_type": "code",
   "execution_count": 20,
   "metadata": {},
   "outputs": [
    {
     "name": "stdout",
     "output_type": "stream",
     "text": [
      "Move disk from  A to B\n"
     ]
    }
   ],
   "source": [
    "hanoi(1)"
   ]
  },
  {
   "cell_type": "code",
   "execution_count": 21,
   "metadata": {},
   "outputs": [
    {
     "name": "stdout",
     "output_type": "stream",
     "text": [
      "Move disk from  A to B\n",
      "Move disk from  A to C\n",
      "Move disk from  B to C\n",
      "Move disk from  A to B\n",
      "Move disk from  C to A\n",
      "Move disk from  C to B\n",
      "Move disk from  A to B\n"
     ]
    }
   ],
   "source": [
    "hanoi(3)"
   ]
  },
  {
   "cell_type": "markdown",
   "metadata": {},
   "source": [
    "\n",
    "formula  $$2^n-1$$"
   ]
  }
 ],
 "metadata": {
  "kernelspec": {
   "display_name": "Python 3",
   "language": "python",
   "name": "python3"
  },
  "language_info": {
   "codemirror_mode": {
    "name": "ipython",
    "version": 3
   },
   "file_extension": ".py",
   "mimetype": "text/x-python",
   "name": "python",
   "nbconvert_exporter": "python",
   "pygments_lexer": "ipython3",
   "version": "3.7.6"
  }
 },
 "nbformat": 4,
 "nbformat_minor": 4
}
