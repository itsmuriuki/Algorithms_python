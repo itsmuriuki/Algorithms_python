{
 "cells": [
  {
   "cell_type": "code",
   "execution_count": 1,
   "metadata": {},
   "outputs": [],
   "source": [
    "def insertion_sort(nums):\n",
    "    #start on the second element assume the first is sorted\n",
    "    for i in range(1, len(nums)):\n",
    "        item_to_inset = nums[i]\n",
    "        # keep reference of the index of the previous element\n",
    "        j = i  - 1 \n",
    "        # move the items of the sorted arguments forward if the are larger than the inderted item\n",
    "        while j >= 0 and nums[j] > item_to_inset:\n",
    "            nums[j + 1] = nums[j]\n",
    "            j-= 1\n",
    "            #insert items\n",
    "            nums[j + 1] = item_to_inset\n",
    "            "
   ]
  },
  {
   "cell_type": "code",
   "execution_count": 2,
   "metadata": {},
   "outputs": [],
   "source": [
    "list_nums = [9, 1, 15, 28, 6]"
   ]
  },
  {
   "cell_type": "code",
   "execution_count": 3,
   "metadata": {},
   "outputs": [
    {
     "name": "stdout",
     "output_type": "stream",
     "text": [
      "[1, 6, 9, 15, 28]\n"
     ]
    }
   ],
   "source": [
    "insertion_sort(list__nums)\n",
    "print(random_list_of_nums)"
   ]
  },
  {
   "cell_type": "code",
   "execution_count": null,
   "metadata": {},
   "outputs": [],
   "source": []
  }
 ],
 "metadata": {
  "kernelspec": {
   "display_name": "Python 3",
   "language": "python",
   "name": "python3"
  },
  "language_info": {
   "codemirror_mode": {
    "name": "ipython",
    "version": 3
   },
   "file_extension": ".py",
   "mimetype": "text/x-python",
   "name": "python",
   "nbconvert_exporter": "python",
   "pygments_lexer": "ipython3",
   "version": "3.7.6"
  }
 },
 "nbformat": 4,
 "nbformat_minor": 4
}
